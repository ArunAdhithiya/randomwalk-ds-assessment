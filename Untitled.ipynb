{
 "cells": [
  {
   "cell_type": "code",
   "execution_count": 27,
   "id": "bf7b8893",
   "metadata": {},
   "outputs": [],
   "source": [
    "import pandas as pd\n",
    "import numpy as np\n",
    "import seaborn as sns\n",
    "import matplotlib.pyplot as plt"
   ]
  },
  {
   "cell_type": "code",
   "execution_count": 29,
   "id": "3be5dbea",
   "metadata": {},
   "outputs": [
    {
     "data": {
      "text/html": [
       "<div>\n",
       "<style scoped>\n",
       "    .dataframe tbody tr th:only-of-type {\n",
       "        vertical-align: middle;\n",
       "    }\n",
       "\n",
       "    .dataframe tbody tr th {\n",
       "        vertical-align: top;\n",
       "    }\n",
       "\n",
       "    .dataframe thead th {\n",
       "        text-align: right;\n",
       "    }\n",
       "</style>\n",
       "<table border=\"1\" class=\"dataframe\">\n",
       "  <thead>\n",
       "    <tr style=\"text-align: right;\">\n",
       "      <th></th>\n",
       "      <th>book_id</th>\n",
       "      <th>goodreads_book_id</th>\n",
       "      <th>best_book_id</th>\n",
       "      <th>work_id</th>\n",
       "      <th>books_count</th>\n",
       "      <th>isbn</th>\n",
       "      <th>isbn13</th>\n",
       "      <th>authors</th>\n",
       "      <th>original_publication_year</th>\n",
       "      <th>original_title</th>\n",
       "      <th>...</th>\n",
       "      <th>work_ratings_count</th>\n",
       "      <th>work_text_reviews_count</th>\n",
       "      <th>ratings_1</th>\n",
       "      <th>ratings_2</th>\n",
       "      <th>ratings_3</th>\n",
       "      <th>ratings_4</th>\n",
       "      <th>ratings_5</th>\n",
       "      <th>image_url</th>\n",
       "      <th>small_image_url</th>\n",
       "      <th>NonEnglish</th>\n",
       "    </tr>\n",
       "  </thead>\n",
       "  <tbody>\n",
       "    <tr>\n",
       "      <th>0</th>\n",
       "      <td>15</td>\n",
       "      <td>48855</td>\n",
       "      <td>48855</td>\n",
       "      <td>3532896</td>\n",
       "      <td>710</td>\n",
       "      <td>553296981</td>\n",
       "      <td>9.780553e+12</td>\n",
       "      <td>Anne Frank, Eleanor Roosevelt, B.M. Mooyaart-D...</td>\n",
       "      <td>1947.0</td>\n",
       "      <td>Het Achterhuis: Dagboekbrieven 14 juni 1942 - ...</td>\n",
       "      <td>...</td>\n",
       "      <td>2024493</td>\n",
       "      <td>20825</td>\n",
       "      <td>45225</td>\n",
       "      <td>91270</td>\n",
       "      <td>355756</td>\n",
       "      <td>656870</td>\n",
       "      <td>875372</td>\n",
       "      <td>https://images.gr-assets.com/books/1358276407m...</td>\n",
       "      <td>https://images.gr-assets.com/books/1358276407s...</td>\n",
       "      <td>0</td>\n",
       "    </tr>\n",
       "    <tr>\n",
       "      <th>1</th>\n",
       "      <td>40</td>\n",
       "      <td>19501</td>\n",
       "      <td>19501</td>\n",
       "      <td>3352398</td>\n",
       "      <td>185</td>\n",
       "      <td>143038419</td>\n",
       "      <td>9.780143e+12</td>\n",
       "      <td>Elizabeth Gilbert</td>\n",
       "      <td>2006.0</td>\n",
       "      <td>Eat, pray, love: one woman's search for everyt...</td>\n",
       "      <td>...</td>\n",
       "      <td>1206597</td>\n",
       "      <td>49714</td>\n",
       "      <td>100373</td>\n",
       "      <td>149549</td>\n",
       "      <td>310212</td>\n",
       "      <td>332191</td>\n",
       "      <td>314272</td>\n",
       "      <td>https://images.gr-assets.com/books/1503066414m...</td>\n",
       "      <td>https://images.gr-assets.com/books/1503066414s...</td>\n",
       "      <td>0</td>\n",
       "    </tr>\n",
       "    <tr>\n",
       "      <th>2</th>\n",
       "      <td>81</td>\n",
       "      <td>7445</td>\n",
       "      <td>7445</td>\n",
       "      <td>2944133</td>\n",
       "      <td>92</td>\n",
       "      <td>074324754X</td>\n",
       "      <td>9.780743e+12</td>\n",
       "      <td>Jeannette Walls</td>\n",
       "      <td>2005.0</td>\n",
       "      <td>The Glass Castle</td>\n",
       "      <td>...</td>\n",
       "      <td>637866</td>\n",
       "      <td>40777</td>\n",
       "      <td>7901</td>\n",
       "      <td>18922</td>\n",
       "      <td>85191</td>\n",
       "      <td>227750</td>\n",
       "      <td>298102</td>\n",
       "      <td>https://images.gr-assets.com/books/1400930557m...</td>\n",
       "      <td>https://images.gr-assets.com/books/1400930557s...</td>\n",
       "      <td>0</td>\n",
       "    </tr>\n",
       "    <tr>\n",
       "      <th>3</th>\n",
       "      <td>82</td>\n",
       "      <td>1845</td>\n",
       "      <td>1845</td>\n",
       "      <td>3284484</td>\n",
       "      <td>108</td>\n",
       "      <td>385486804</td>\n",
       "      <td>9.780385e+12</td>\n",
       "      <td>Jon Krakauer</td>\n",
       "      <td>1996.0</td>\n",
       "      <td>Into the Wild</td>\n",
       "      <td>...</td>\n",
       "      <td>665377</td>\n",
       "      <td>17299</td>\n",
       "      <td>19229</td>\n",
       "      <td>35567</td>\n",
       "      <td>135199</td>\n",
       "      <td>248287</td>\n",
       "      <td>227095</td>\n",
       "      <td>https://images.gr-assets.com/books/1403173986m...</td>\n",
       "      <td>https://images.gr-assets.com/books/1403173986s...</td>\n",
       "      <td>0</td>\n",
       "    </tr>\n",
       "    <tr>\n",
       "      <th>4</th>\n",
       "      <td>87</td>\n",
       "      <td>1617</td>\n",
       "      <td>1617</td>\n",
       "      <td>265616</td>\n",
       "      <td>109</td>\n",
       "      <td>374500010</td>\n",
       "      <td>9.780375e+12</td>\n",
       "      <td>Elie Wiesel, Marion Wiesel</td>\n",
       "      <td>1958.0</td>\n",
       "      <td>Un di Velt Hot Geshvign</td>\n",
       "      <td>...</td>\n",
       "      <td>707879</td>\n",
       "      <td>22001</td>\n",
       "      <td>7761</td>\n",
       "      <td>18539</td>\n",
       "      <td>90575</td>\n",
       "      <td>230227</td>\n",
       "      <td>360777</td>\n",
       "      <td>https://images.gr-assets.com/books/1473495285m...</td>\n",
       "      <td>https://images.gr-assets.com/books/1473495285s...</td>\n",
       "      <td>0</td>\n",
       "    </tr>\n",
       "    <tr>\n",
       "      <th>...</th>\n",
       "      <td>...</td>\n",
       "      <td>...</td>\n",
       "      <td>...</td>\n",
       "      <td>...</td>\n",
       "      <td>...</td>\n",
       "      <td>...</td>\n",
       "      <td>...</td>\n",
       "      <td>...</td>\n",
       "      <td>...</td>\n",
       "      <td>...</td>\n",
       "      <td>...</td>\n",
       "      <td>...</td>\n",
       "      <td>...</td>\n",
       "      <td>...</td>\n",
       "      <td>...</td>\n",
       "      <td>...</td>\n",
       "      <td>...</td>\n",
       "      <td>...</td>\n",
       "      <td>...</td>\n",
       "      <td>...</td>\n",
       "      <td>...</td>\n",
       "    </tr>\n",
       "    <tr>\n",
       "      <th>394</th>\n",
       "      <td>9788</td>\n",
       "      <td>23399022</td>\n",
       "      <td>23399022</td>\n",
       "      <td>42955411</td>\n",
       "      <td>21</td>\n",
       "      <td>525427651</td>\n",
       "      <td>9.780525e+12</td>\n",
       "      <td>Amanda Berry, Gina DeJesus, Mary Jordan, Kevin...</td>\n",
       "      <td>2015.0</td>\n",
       "      <td>Hope</td>\n",
       "      <td>...</td>\n",
       "      <td>9102</td>\n",
       "      <td>927</td>\n",
       "      <td>101</td>\n",
       "      <td>195</td>\n",
       "      <td>1180</td>\n",
       "      <td>3301</td>\n",
       "      <td>4325</td>\n",
       "      <td>https://images.gr-assets.com/books/1421708177m...</td>\n",
       "      <td>https://images.gr-assets.com/books/1421708177s...</td>\n",
       "      <td>0</td>\n",
       "    </tr>\n",
       "    <tr>\n",
       "      <th>395</th>\n",
       "      <td>9847</td>\n",
       "      <td>20685373</td>\n",
       "      <td>20685373</td>\n",
       "      <td>40000267</td>\n",
       "      <td>18</td>\n",
       "      <td>307720659</td>\n",
       "      <td>9.780308e+12</td>\n",
       "      <td>Suki Kim</td>\n",
       "      <td>2014.0</td>\n",
       "      <td>Without You, There Is No Us: My Time with the ...</td>\n",
       "      <td>...</td>\n",
       "      <td>10002</td>\n",
       "      <td>1426</td>\n",
       "      <td>145</td>\n",
       "      <td>523</td>\n",
       "      <td>2526</td>\n",
       "      <td>4328</td>\n",
       "      <td>2480</td>\n",
       "      <td>https://images.gr-assets.com/books/1405292426m...</td>\n",
       "      <td>https://images.gr-assets.com/books/1405292426s...</td>\n",
       "      <td>0</td>\n",
       "    </tr>\n",
       "    <tr>\n",
       "      <th>396</th>\n",
       "      <td>9887</td>\n",
       "      <td>503248</td>\n",
       "      <td>503248</td>\n",
       "      <td>491309</td>\n",
       "      <td>21</td>\n",
       "      <td>307381269</td>\n",
       "      <td>9.780307e+12</td>\n",
       "      <td>Howard Dully, Charles Fleming</td>\n",
       "      <td>2007.0</td>\n",
       "      <td>My Lobotomy</td>\n",
       "      <td>...</td>\n",
       "      <td>9615</td>\n",
       "      <td>1247</td>\n",
       "      <td>142</td>\n",
       "      <td>788</td>\n",
       "      <td>2979</td>\n",
       "      <td>3585</td>\n",
       "      <td>2121</td>\n",
       "      <td>https://images.gr-assets.com/books/1320449273m...</td>\n",
       "      <td>https://images.gr-assets.com/books/1320449273s...</td>\n",
       "      <td>0</td>\n",
       "    </tr>\n",
       "    <tr>\n",
       "      <th>397</th>\n",
       "      <td>9960</td>\n",
       "      <td>127970</td>\n",
       "      <td>127970</td>\n",
       "      <td>1066433</td>\n",
       "      <td>26</td>\n",
       "      <td>739416383</td>\n",
       "      <td>9.780739e+12</td>\n",
       "      <td>Terry Ryan</td>\n",
       "      <td>2001.0</td>\n",
       "      <td>The Prize Winner of Defiance, Ohio: How My Mot...</td>\n",
       "      <td>...</td>\n",
       "      <td>11151</td>\n",
       "      <td>1849</td>\n",
       "      <td>118</td>\n",
       "      <td>498</td>\n",
       "      <td>2739</td>\n",
       "      <td>4816</td>\n",
       "      <td>2980</td>\n",
       "      <td>https://s.gr-assets.com/assets/nophoto/book/11...</td>\n",
       "      <td>https://s.gr-assets.com/assets/nophoto/book/50...</td>\n",
       "      <td>0</td>\n",
       "    </tr>\n",
       "    <tr>\n",
       "      <th>398</th>\n",
       "      <td>9968</td>\n",
       "      <td>554674</td>\n",
       "      <td>554674</td>\n",
       "      <td>548132</td>\n",
       "      <td>34</td>\n",
       "      <td>60005777</td>\n",
       "      <td>9.780060e+12</td>\n",
       "      <td>Maria Augusta von Trapp</td>\n",
       "      <td>1949.0</td>\n",
       "      <td>The Story of the Trapp Family Singers</td>\n",
       "      <td>...</td>\n",
       "      <td>10234</td>\n",
       "      <td>599</td>\n",
       "      <td>297</td>\n",
       "      <td>518</td>\n",
       "      <td>2345</td>\n",
       "      <td>3406</td>\n",
       "      <td>3668</td>\n",
       "      <td>https://s.gr-assets.com/assets/nophoto/book/11...</td>\n",
       "      <td>https://s.gr-assets.com/assets/nophoto/book/50...</td>\n",
       "      <td>0</td>\n",
       "    </tr>\n",
       "  </tbody>\n",
       "</table>\n",
       "<p>399 rows × 24 columns</p>\n",
       "</div>"
      ],
      "text/plain": [
       "     book_id  goodreads_book_id  best_book_id   work_id  books_count  \\\n",
       "0         15              48855         48855   3532896          710   \n",
       "1         40              19501         19501   3352398          185   \n",
       "2         81               7445          7445   2944133           92   \n",
       "3         82               1845          1845   3284484          108   \n",
       "4         87               1617          1617    265616          109   \n",
       "..       ...                ...           ...       ...          ...   \n",
       "394     9788           23399022      23399022  42955411           21   \n",
       "395     9847           20685373      20685373  40000267           18   \n",
       "396     9887             503248        503248    491309           21   \n",
       "397     9960             127970        127970   1066433           26   \n",
       "398     9968             554674        554674    548132           34   \n",
       "\n",
       "           isbn        isbn13  \\\n",
       "0     553296981  9.780553e+12   \n",
       "1     143038419  9.780143e+12   \n",
       "2    074324754X  9.780743e+12   \n",
       "3     385486804  9.780385e+12   \n",
       "4     374500010  9.780375e+12   \n",
       "..          ...           ...   \n",
       "394   525427651  9.780525e+12   \n",
       "395   307720659  9.780308e+12   \n",
       "396   307381269  9.780307e+12   \n",
       "397   739416383  9.780739e+12   \n",
       "398    60005777  9.780060e+12   \n",
       "\n",
       "                                               authors  \\\n",
       "0    Anne Frank, Eleanor Roosevelt, B.M. Mooyaart-D...   \n",
       "1                                    Elizabeth Gilbert   \n",
       "2                                      Jeannette Walls   \n",
       "3                                         Jon Krakauer   \n",
       "4                           Elie Wiesel, Marion Wiesel   \n",
       "..                                                 ...   \n",
       "394  Amanda Berry, Gina DeJesus, Mary Jordan, Kevin...   \n",
       "395                                           Suki Kim   \n",
       "396                      Howard Dully, Charles Fleming   \n",
       "397                                         Terry Ryan   \n",
       "398                            Maria Augusta von Trapp   \n",
       "\n",
       "     original_publication_year  \\\n",
       "0                       1947.0   \n",
       "1                       2006.0   \n",
       "2                       2005.0   \n",
       "3                       1996.0   \n",
       "4                       1958.0   \n",
       "..                         ...   \n",
       "394                     2015.0   \n",
       "395                     2014.0   \n",
       "396                     2007.0   \n",
       "397                     2001.0   \n",
       "398                     1949.0   \n",
       "\n",
       "                                        original_title  ...  \\\n",
       "0    Het Achterhuis: Dagboekbrieven 14 juni 1942 - ...  ...   \n",
       "1    Eat, pray, love: one woman's search for everyt...  ...   \n",
       "2                                     The Glass Castle  ...   \n",
       "3                                        Into the Wild  ...   \n",
       "4                              Un di Velt Hot Geshvign  ...   \n",
       "..                                                 ...  ...   \n",
       "394                                               Hope  ...   \n",
       "395  Without You, There Is No Us: My Time with the ...  ...   \n",
       "396                                        My Lobotomy  ...   \n",
       "397  The Prize Winner of Defiance, Ohio: How My Mot...  ...   \n",
       "398              The Story of the Trapp Family Singers  ...   \n",
       "\n",
       "    work_ratings_count work_text_reviews_count  ratings_1  ratings_2  \\\n",
       "0              2024493                   20825      45225      91270   \n",
       "1              1206597                   49714     100373     149549   \n",
       "2               637866                   40777       7901      18922   \n",
       "3               665377                   17299      19229      35567   \n",
       "4               707879                   22001       7761      18539   \n",
       "..                 ...                     ...        ...        ...   \n",
       "394               9102                     927        101        195   \n",
       "395              10002                    1426        145        523   \n",
       "396               9615                    1247        142        788   \n",
       "397              11151                    1849        118        498   \n",
       "398              10234                     599        297        518   \n",
       "\n",
       "     ratings_3  ratings_4  ratings_5  \\\n",
       "0       355756     656870     875372   \n",
       "1       310212     332191     314272   \n",
       "2        85191     227750     298102   \n",
       "3       135199     248287     227095   \n",
       "4        90575     230227     360777   \n",
       "..         ...        ...        ...   \n",
       "394       1180       3301       4325   \n",
       "395       2526       4328       2480   \n",
       "396       2979       3585       2121   \n",
       "397       2739       4816       2980   \n",
       "398       2345       3406       3668   \n",
       "\n",
       "                                             image_url  \\\n",
       "0    https://images.gr-assets.com/books/1358276407m...   \n",
       "1    https://images.gr-assets.com/books/1503066414m...   \n",
       "2    https://images.gr-assets.com/books/1400930557m...   \n",
       "3    https://images.gr-assets.com/books/1403173986m...   \n",
       "4    https://images.gr-assets.com/books/1473495285m...   \n",
       "..                                                 ...   \n",
       "394  https://images.gr-assets.com/books/1421708177m...   \n",
       "395  https://images.gr-assets.com/books/1405292426m...   \n",
       "396  https://images.gr-assets.com/books/1320449273m...   \n",
       "397  https://s.gr-assets.com/assets/nophoto/book/11...   \n",
       "398  https://s.gr-assets.com/assets/nophoto/book/11...   \n",
       "\n",
       "                                       small_image_url  NonEnglish  \n",
       "0    https://images.gr-assets.com/books/1358276407s...           0  \n",
       "1    https://images.gr-assets.com/books/1503066414s...           0  \n",
       "2    https://images.gr-assets.com/books/1400930557s...           0  \n",
       "3    https://images.gr-assets.com/books/1403173986s...           0  \n",
       "4    https://images.gr-assets.com/books/1473495285s...           0  \n",
       "..                                                 ...         ...  \n",
       "394  https://images.gr-assets.com/books/1421708177s...           0  \n",
       "395  https://images.gr-assets.com/books/1405292426s...           0  \n",
       "396  https://images.gr-assets.com/books/1320449273s...           0  \n",
       "397  https://s.gr-assets.com/assets/nophoto/book/50...           0  \n",
       "398  https://s.gr-assets.com/assets/nophoto/book/50...           0  \n",
       "\n",
       "[399 rows x 24 columns]"
      ]
     },
     "execution_count": 29,
     "metadata": {},
     "output_type": "execute_result"
    }
   ],
   "source": [
    "books_df = pd.read_csv('books.csv')\n",
    "books_df"
   ]
  },
  {
   "cell_type": "markdown",
   "id": "3ed8ee9d",
   "metadata": {},
   "source": [
    "# Q1: How many rows and columns are there in books.csv dataset?"
   ]
  },
  {
   "cell_type": "code",
   "execution_count": 30,
   "id": "19db80b1",
   "metadata": {},
   "outputs": [
    {
     "name": "stdout",
     "output_type": "stream",
     "text": [
      "Number of rows: 399, Number of columns: 24\n"
     ]
    }
   ],
   "source": [
    "num_rows, num_columns = books_df.shape\n",
    "print(f\"Number of rows: {num_rows}, Number of columns: {num_columns}\")"
   ]
  },
  {
   "cell_type": "markdown",
   "id": "5d1d8ef4",
   "metadata": {},
   "source": [
    "# Q2: How many books do not have an original title?\n"
   ]
  },
  {
   "cell_type": "code",
   "execution_count": 31,
   "id": "2eb7c0a1",
   "metadata": {},
   "outputs": [
    {
     "name": "stdout",
     "output_type": "stream",
     "text": [
      "Number of books without an original title: 36\n"
     ]
    }
   ],
   "source": [
    "num_books_without_title = books_df['original_title'].isnull().sum()\n",
    "print(f\"Number of books without an original title: {num_books_without_title}\")"
   ]
  },
  {
   "cell_type": "markdown",
   "id": "f0e84f45",
   "metadata": {},
   "source": [
    "# Q3: How many unique books are present in the dataset? \n"
   ]
  },
  {
   "cell_type": "code",
   "execution_count": 32,
   "id": "90158ceb",
   "metadata": {},
   "outputs": [
    {
     "name": "stdout",
     "output_type": "stream",
     "text": [
      "Number of unique books: 399\n"
     ]
    }
   ],
   "source": [
    "num_unique_books = books_df['book_id'].nunique()\n",
    "print(f\"Number of unique books: {num_unique_books}\")"
   ]
  },
  {
   "cell_type": "markdown",
   "id": "1d9866d9",
   "metadata": {},
   "source": [
    "# Q4: What is the average rating of all the books in the dataset based on ‘average_rating’?\n"
   ]
  },
  {
   "cell_type": "code",
   "execution_count": 33,
   "id": "e4f3c2ec",
   "metadata": {},
   "outputs": [
    {
     "name": "stdout",
     "output_type": "stream",
     "text": [
      "Average rating of all books: 3.9837844611528817\n"
     ]
    }
   ],
   "source": [
    "average_rating = books_df['average_rating'].mean()\n",
    "print(f\"Average rating of all books: {average_rating}\")"
   ]
  },
  {
   "cell_type": "markdown",
   "id": "5098a876",
   "metadata": {},
   "source": [
    "# Q5: Find the number of books published in the year ‘2000’ based on the ‘original_publication_year’.\n"
   ]
  },
  {
   "cell_type": "code",
   "execution_count": 34,
   "id": "24953e81",
   "metadata": {},
   "outputs": [
    {
     "name": "stdout",
     "output_type": "stream",
     "text": [
      "Number of books published in the year 2000: 8\n"
     ]
    }
   ],
   "source": [
    "num_books_2000 = books_df[books_df['original_publication_year'] == 2000].shape[0]\n",
    "print(f\"Number of books published in the year 2000: {num_books_2000}\")"
   ]
  },
  {
   "cell_type": "markdown",
   "id": "5036aa4e",
   "metadata": {},
   "source": [
    "# Q6: Which book (title) has the maximum number of ratings based on ‘work_ratings_count’.\n"
   ]
  },
  {
   "cell_type": "code",
   "execution_count": 35,
   "id": "4579ce8b",
   "metadata": {},
   "outputs": [
    {
     "name": "stdout",
     "output_type": "stream",
     "text": [
      "Book with the maximum number of ratings: The Diary of a Young Girl\n"
     ]
    }
   ],
   "source": [
    "max_ratings_book_title = books_df.loc[books_df['work_ratings_count'].idxmax(), 'title']\n",
    "print(f\"Book with the maximum number of ratings: {max_ratings_book_title}\")"
   ]
  },
  {
   "cell_type": "markdown",
   "id": "f2d19989",
   "metadata": {},
   "source": [
    "# Q7: Bucket the average_rating of books into 11 buckets [0, 0.5, 1.0, 1.5, 2.0, 2.5, 3.0, 3.5, 4.0, 4.5, 5.0] with 0.5 decimal rounding.\n"
   ]
  },
  {
   "cell_type": "code",
   "execution_count": 36,
   "id": "76f538ee",
   "metadata": {},
   "outputs": [
    {
     "name": "stdout",
     "output_type": "stream",
     "text": [
      "rating_bucket\n",
      "[0.0, 0.5)      0\n",
      "[0.5, 1.0)      0\n",
      "[1.0, 1.5)      0\n",
      "[1.5, 2.0)      0\n",
      "[2.0, 2.5)      0\n",
      "[2.5, 3.0)      0\n",
      "[3.0, 3.5)      7\n",
      "[3.5, 4.0)    191\n",
      "[4.0, 4.5)    199\n",
      "[4.5, 5.0)      2\n",
      "Name: count, dtype: int64\n"
     ]
    }
   ],
   "source": [
    "rating_buckets = [0, 0.5, 1.0, 1.5, 2.0, 2.5, 3.0, 3.5, 4.0, 4.5, 5.0]\n",
    "books_df['rating_bucket'] = pd.cut(books_df['average_rating'], bins=rating_buckets, right=False)\n",
    "rating_bucket_counts = books_df['rating_bucket'].value_counts().sort_index()\n",
    "print(rating_bucket_counts)"
   ]
  },
  {
   "cell_type": "markdown",
   "id": "a77ac327",
   "metadata": {},
   "source": [
    "# Plotting bar graph to show the total number of books in each rating bucket."
   ]
  },
  {
   "cell_type": "code",
   "execution_count": 37,
   "id": "c488a557",
   "metadata": {},
   "outputs": [
    {
     "data": {
      "image/png": "[encoded data removed]",
      "text/plain": [
       "<Figure size 640x480 with 1 Axes>"
      ]
     },
     "metadata": {},
     "output_type": "display_data"
    }
   ],
   "source": [
    "plt.bar(rating_bucket_counts.index.astype(str), rating_bucket_counts)\n",
    "plt.xlabel('Rating Bucket')\n",
    "plt.ylabel('Number of Books')\n",
    "plt.title('Number of Books in Each Rating Bucket')\n",
    "plt.show()"
   ]
  }
 ],
 "metadata": {
  "kernelspec": {
   "display_name": "Python 3 (ipykernel)",
   "language": "python",
   "name": "python3"
  },
  "language_info": {
   "codemirror_mode": {
    "name": "ipython",
    "version": 3
   },
   "file_extension": ".py",
   "mimetype": "text/x-python",
   "name": "python",
   "nbconvert_exporter": "python",
   "pygments_lexer": "ipython3",
   "version": "3.11.5"
  }
 },
 "nbformat": 4,
 "nbformat_minor": 5
}
